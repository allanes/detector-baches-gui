{
 "cells": [
  {
   "cell_type": "code",
   "execution_count": 19,
   "metadata": {},
   "outputs": [],
   "source": [
    "import os\n",
    "\n",
    "ruta_salida = 'outputs/yolov5s_1_20221106_013849'\n",
    "ruta_salida = 'outputs/yolov7_2_20221106_013714'\n",
    "\n",
    "if not 'labels' in os.listdir(ruta_salida):\n",
    "    print(f'No se encontro la carpeta labels dentro de la carpeta {ruta_salida}')\n",
    "\n",
    "# Armo la lista de archivos para ubicar los nombres de las etiquetas\n",
    "lista_archivos = os.listdir(ruta_salida)\n",
    "lista_archivos.remove('labels')\n",
    "lista_archivos = [os.path.splitext(archivo)[0] for archivo in lista_archivos]\n",
    "\n",
    "# Armo una lista de etiquetas para cada archivo de referencia\n",
    "ruta_labels = ruta_salida + '/labels'\n",
    "lista_labels = os.listdir(ruta_labels)\n",
    "\n",
    "etiquetas_por_archivo = []\n",
    "for archivo_ref in lista_archivos:\n",
    "    sublista = []\n",
    "    for label in lista_labels:\n",
    "        if label.startswith(archivo_ref):\n",
    "            sublista.append(label)\n",
    "    etiquetas_por_archivo.append(sublista)\n",
    "    \n",
    "assert len(etiquetas_por_archivo) == len(lista_archivos)\n",
    "\n",
    "# Busco el label con la mayor cantidad de lineas para cada archivo de ref\n",
    "lista_labels_seleccionados = []\n",
    "for archivo, lista_labels in zip(lista_archivos, etiquetas_por_archivo):\n",
    "    cuenta_lineas = 0\n",
    "    buffer_label = ''\n",
    "    \n",
    "    for label in lista_labels:\n",
    "        file = open(f'{ruta_labels}/{label}', 'r')\n",
    "        cant_lineas = len(file.readlines())\n",
    "        if cant_lineas > cuenta_lineas: \n",
    "            cuenta_lineas = cant_lineas\n",
    "            buffer_label = label\n",
    "    \n",
    "    lista_labels_seleccionados.append(buffer_label)\n",
    "    \n",
    "assert len(etiquetas_por_archivo) == len(lista_archivos)\n"
   ]
  },
  {
   "cell_type": "code",
   "execution_count": 41,
   "metadata": {},
   "outputs": [
    {
     "name": "stdout",
     "output_type": "stream",
     "text": [
      "*******RESULTADOS DE LA DETECCION*******\n",
      "Timestamp: 20221106 013714\n",
      "Ruta de referencia: outputs/yolov7_2_20221106_013714\n",
      "\n",
      "Archivo usado \"IMG_1672\"\n",
      "\t2 0.713542 0.862963 0.0697917 0.116667 0.255387\n",
      "\t2 0.715104 0.869444 0.0666667 0.125926 0.258267\n",
      "\t2 0.715104 0.869444 0.0666667 0.125926 0.258267\n",
      "\t2 0.715104 0.869444 0.0666667 0.125926 0.258267\n",
      "\t2 0.715104 0.869444 0.0666667 0.125926 0.258267\n",
      "\t2 0.715104 0.869444 0.0666667 0.125926 0.258267\n",
      "\t2 0.715104 0.869444 0.0666667 0.125926 0.258267\n",
      "\n",
      "Archivo usado \"Japan_000817_jpg.rf.5a107f013df5f690a26a1220a0f58925\"\n",
      "\t0 0.676683 0.703125 0.189904 0.266827 0.289689\n",
      "\n",
      "\n",
      "\n"
     ]
    }
   ],
   "source": [
    "timestamp = ruta_salida.split(\"_\")[-2:]\n",
    "timestamp = ' '.join(timestamp)\n",
    "\n",
    "cadena = '*******RESULTADOS DE LA DETECCION*******\\n'\n",
    "cadena += f'Timestamp: {timestamp}\\n'\n",
    "cadena += f'Ruta de referencia: {ruta_salida}\\n\\n'\n",
    "for archivo, label in zip(lista_archivos, lista_labels_seleccionados):\n",
    "    if label == '': continue\n",
    "    file = open(f'{ruta_labels}/{label}')\n",
    "    \n",
    "    cadena += f'Archivo usado \"{archivo}\"\\n\\t'\n",
    "    cadena_lineas = '\\t'.join(file.readlines())\n",
    "    cadena += cadena_lineas + '\\n\\n'\n",
    "    \n",
    "    \n",
    "print(cadena)"
   ]
  }
 ],
 "metadata": {
  "kernelspec": {
   "display_name": "Python 3.10.7 64-bit ('.venv': venv)",
   "language": "python",
   "name": "python3"
  },
  "language_info": {
   "codemirror_mode": {
    "name": "ipython",
    "version": 3
   },
   "file_extension": ".py",
   "mimetype": "text/x-python",
   "name": "python",
   "nbconvert_exporter": "python",
   "pygments_lexer": "ipython3",
   "version": "3.10.7"
  },
  "orig_nbformat": 4,
  "vscode": {
   "interpreter": {
    "hash": "41b76e25a38455a0aceb2333b5fee86e9e07267c20883eedba68371c9cb3b3d3"
   }
  }
 },
 "nbformat": 4,
 "nbformat_minor": 2
}
